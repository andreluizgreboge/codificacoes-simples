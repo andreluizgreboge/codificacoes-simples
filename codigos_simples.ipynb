{
  "nbformat": 4,
  "nbformat_minor": 0,
  "metadata": {
    "colab": {
      "name": "codigos-simples.ipynb",
      "provenance": []
    },
    "kernelspec": {
      "name": "python3",
      "display_name": "Python 3"
    },
    "language_info": {
      "name": "python"
    }
  },
  "cells": [
    {
      "cell_type": "code",
      "execution_count": 44,
      "metadata": {
        "id": "fioQpp9huS7E"
      },
      "outputs": [],
      "source": [
        "import string\n",
        "import random"
      ]
    },
    {
      "cell_type": "code",
      "source": [
        "mensagem = 'meu cachorro gosta de passear'"
      ],
      "metadata": {
        "id": "qz-VzWo38rH0"
      },
      "execution_count": null,
      "outputs": []
    },
    {
      "cell_type": "code",
      "source": [
        "# ajuda pelo canal Neural Nine\n",
        "# cifra de cesar\n",
        "\n",
        "posicao = 2\n",
        "alfabeto = string.ascii_lowercase\n",
        "deslocado = alfabeto[posicao:] + alfabeto[:posicao]\n",
        "tabela = str.maketrans(alfabeto,deslocado)\n",
        "codificado = mensagem.translate(tabela)\n",
        "print(mensagem, \" | Mensagem original\")\n",
        "print(codificado,\" | Código na posição :\",posicao)"
      ],
      "metadata": {
        "colab": {
          "base_uri": "https://localhost:8080/"
        },
        "id": "mnnYV9qtwh8b",
        "outputId": "fce24d60-b77e-4b2f-e76d-124cd22076ba"
      },
      "execution_count": 45,
      "outputs": [
        {
          "output_type": "stream",
          "name": "stdout",
          "text": [
            "meu cachorro gosta de passear  | Mensagem original\n",
            "ogw ecejqttq iquvc fg rcuugct  | Código na posição : 2\n"
          ]
        }
      ]
    },
    {
      "cell_type": "code",
      "source": [
        "# inserir caracteres aleatorios\n",
        "\n",
        "aleat = random.choices(string.ascii_lowercase,k=5)\n",
        "subs = \"\".join(aleat)\n",
        "meio = mensagem.replace(\" \",subs)\n",
        "print(mensagem, \" | Mensagem original\")\n",
        "print(meio, \" | Msg com conjunto de letras substituindo espaços\")"
      ],
      "metadata": {
        "colab": {
          "base_uri": "https://localhost:8080/"
        },
        "id": "xBYLEXU-zwHm",
        "outputId": "50d7a3f6-1232-49aa-c782-747ba607d3b1"
      },
      "execution_count": 46,
      "outputs": [
        {
          "output_type": "stream",
          "name": "stdout",
          "text": [
            "meu cachorro gosta de passear  | Mensagem original\n",
            "meuabsvmcachorroabsvmgostaabsvmdeabsvmpassear  | Msg com conjunto de letras substituindo espaços\n"
          ]
        }
      ]
    }
  ]
}